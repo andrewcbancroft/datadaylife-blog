{
 "cells": [
  {
   "cell_type": "markdown",
   "metadata": {},
   "source": [
    "# What is the difference between axis=0 and axis=1 when working with Pandas dataframes?"
   ]
  },
  {
   "cell_type": "markdown",
   "metadata": {},
   "source": [
    "Sometimes, functions ask you to specify an `axis`.  The documentation can feel vague without an example.\n",
    "\n",
    "For instance, here's a quote from the `apply` function's documentation:\n",
    "    \n",
    "> axis : {0 or ‘index’, 1 or ‘columns’}, default 0\n",
    "Axis along which the function is applied:\n",
    "0 or ‘index’: apply function to each column.\n",
    "1 or ‘columns’: apply function to each row.\n",
    "\n",
    "Uuuum... right.\n",
    "\n",
    "So what's the difference? Here's an example..."
   ]
  },
  {
   "cell_type": "code",
   "execution_count": null,
   "metadata": {},
   "outputs": [],
   "source": []
  }
 ],
 "metadata": {
  "kernelspec": {
   "display_name": "Python 3",
   "language": "python",
   "name": "python3"
  },
  "language_info": {
   "codemirror_mode": {
    "name": "ipython",
    "version": 3
   },
   "file_extension": ".py",
   "mimetype": "text/x-python",
   "name": "python",
   "nbconvert_exporter": "python",
   "pygments_lexer": "ipython3",
   "version": "3.7.0"
  }
 },
 "nbformat": 4,
 "nbformat_minor": 2
}
