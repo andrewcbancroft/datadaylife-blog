{
 "cells": [
  {
   "cell_type": "markdown",
   "metadata": {},
   "source": [
    "# Prerequisites"
   ]
  },
  {
   "cell_type": "markdown",
   "metadata": {},
   "source": [
    "Install the [Pandas](https://pandas.pydata.org/) library for your Python environment"
   ]
  },
  {
   "cell_type": "markdown",
   "metadata": {},
   "source": [
    "# Import Pandas"
   ]
  },
  {
   "cell_type": "code",
   "execution_count": 39,
   "metadata": {},
   "outputs": [],
   "source": [
    "import pandas as pd"
   ]
  },
  {
   "cell_type": "markdown",
   "metadata": {},
   "source": [
    "# Load Data From Excel"
   ]
  },
  {
   "cell_type": "markdown",
   "metadata": {},
   "source": [
    "### File is in the same directory as your Jupyter Notebook"
   ]
  },
  {
   "cell_type": "code",
   "execution_count": 40,
   "metadata": {},
   "outputs": [],
   "source": [
    "car_sales_data = pd.read_excel(\"Car Sales.xlsx\")"
   ]
  },
  {
   "cell_type": "code",
   "execution_count": 41,
   "metadata": {},
   "outputs": [
    {
     "data": {
      "text/html": [
       "<div>\n",
       "<style scoped>\n",
       "    .dataframe tbody tr th:only-of-type {\n",
       "        vertical-align: middle;\n",
       "    }\n",
       "\n",
       "    .dataframe tbody tr th {\n",
       "        vertical-align: top;\n",
       "    }\n",
       "\n",
       "    .dataframe thead th {\n",
       "        text-align: right;\n",
       "    }\n",
       "</style>\n",
       "<table border=\"1\" class=\"dataframe\">\n",
       "  <thead>\n",
       "    <tr style=\"text-align: right;\">\n",
       "      <th></th>\n",
       "      <th>DealershipName</th>\n",
       "      <th>RedCars</th>\n",
       "      <th>SilverCars</th>\n",
       "      <th>BlackCars</th>\n",
       "      <th>BlueCars</th>\n",
       "      <th>MonthSold</th>\n",
       "      <th>YearSold</th>\n",
       "    </tr>\n",
       "  </thead>\n",
       "  <tbody>\n",
       "    <tr>\n",
       "      <th>0</th>\n",
       "      <td>Clyde's Clunkers</td>\n",
       "      <td>902</td>\n",
       "      <td>650</td>\n",
       "      <td>754</td>\n",
       "      <td>792</td>\n",
       "      <td>1</td>\n",
       "      <td>2018</td>\n",
       "    </tr>\n",
       "    <tr>\n",
       "      <th>1</th>\n",
       "      <td>Clyde's Clunkers</td>\n",
       "      <td>710</td>\n",
       "      <td>476</td>\n",
       "      <td>518</td>\n",
       "      <td>492</td>\n",
       "      <td>2</td>\n",
       "      <td>2018</td>\n",
       "    </tr>\n",
       "    <tr>\n",
       "      <th>2</th>\n",
       "      <td>Clyde's Clunkers</td>\n",
       "      <td>248</td>\n",
       "      <td>912</td>\n",
       "      <td>606</td>\n",
       "      <td>350</td>\n",
       "      <td>3</td>\n",
       "      <td>2018</td>\n",
       "    </tr>\n",
       "    <tr>\n",
       "      <th>3</th>\n",
       "      <td>Clyde's Clunkers</td>\n",
       "      <td>782</td>\n",
       "      <td>912</td>\n",
       "      <td>858</td>\n",
       "      <td>446</td>\n",
       "      <td>4</td>\n",
       "      <td>2018</td>\n",
       "    </tr>\n",
       "    <tr>\n",
       "      <th>4</th>\n",
       "      <td>Clyde's Clunkers</td>\n",
       "      <td>278</td>\n",
       "      <td>354</td>\n",
       "      <td>482</td>\n",
       "      <td>752</td>\n",
       "      <td>5</td>\n",
       "      <td>2018</td>\n",
       "    </tr>\n",
       "  </tbody>\n",
       "</table>\n",
       "</div>"
      ],
      "text/plain": [
       "     DealershipName  RedCars  SilverCars  BlackCars  BlueCars  MonthSold  \\\n",
       "0  Clyde's Clunkers      902         650        754       792          1   \n",
       "1  Clyde's Clunkers      710         476        518       492          2   \n",
       "2  Clyde's Clunkers      248         912        606       350          3   \n",
       "3  Clyde's Clunkers      782         912        858       446          4   \n",
       "4  Clyde's Clunkers      278         354        482       752          5   \n",
       "\n",
       "   YearSold  \n",
       "0      2018  \n",
       "1      2018  \n",
       "2      2018  \n",
       "3      2018  \n",
       "4      2018  "
      ]
     },
     "execution_count": 41,
     "metadata": {},
     "output_type": "execute_result"
    }
   ],
   "source": [
    "# Show the first 5 rows\n",
    "car_sales_data.head(5)"
   ]
  },
  {
   "cell_type": "markdown",
   "metadata": {},
   "source": [
    "### File is in a different directory than your Jupyter Notebook"
   ]
  },
  {
   "cell_type": "code",
   "execution_count": 42,
   "metadata": {},
   "outputs": [],
   "source": [
    "other_path_car_sales_data = pd.read_excel(\"C:/Path/To/Excel/File/Car Sales.xlsx\") # Make sure to use \"/\" slashes and not \"\\\" slashes"
   ]
  },
  {
   "cell_type": "code",
   "execution_count": 43,
   "metadata": {},
   "outputs": [
    {
     "data": {
      "text/html": [
       "<div>\n",
       "<style scoped>\n",
       "    .dataframe tbody tr th:only-of-type {\n",
       "        vertical-align: middle;\n",
       "    }\n",
       "\n",
       "    .dataframe tbody tr th {\n",
       "        vertical-align: top;\n",
       "    }\n",
       "\n",
       "    .dataframe thead th {\n",
       "        text-align: right;\n",
       "    }\n",
       "</style>\n",
       "<table border=\"1\" class=\"dataframe\">\n",
       "  <thead>\n",
       "    <tr style=\"text-align: right;\">\n",
       "      <th></th>\n",
       "      <th>DealershipName</th>\n",
       "      <th>RedCars</th>\n",
       "      <th>SilverCars</th>\n",
       "      <th>BlackCars</th>\n",
       "      <th>BlueCars</th>\n",
       "      <th>MonthSold</th>\n",
       "      <th>YearSold</th>\n",
       "    </tr>\n",
       "  </thead>\n",
       "  <tbody>\n",
       "    <tr>\n",
       "      <th>0</th>\n",
       "      <td>Clyde's Clunkers</td>\n",
       "      <td>902</td>\n",
       "      <td>650</td>\n",
       "      <td>754</td>\n",
       "      <td>792</td>\n",
       "      <td>1</td>\n",
       "      <td>2018</td>\n",
       "    </tr>\n",
       "    <tr>\n",
       "      <th>1</th>\n",
       "      <td>Clyde's Clunkers</td>\n",
       "      <td>710</td>\n",
       "      <td>476</td>\n",
       "      <td>518</td>\n",
       "      <td>492</td>\n",
       "      <td>2</td>\n",
       "      <td>2018</td>\n",
       "    </tr>\n",
       "    <tr>\n",
       "      <th>2</th>\n",
       "      <td>Clyde's Clunkers</td>\n",
       "      <td>248</td>\n",
       "      <td>912</td>\n",
       "      <td>606</td>\n",
       "      <td>350</td>\n",
       "      <td>3</td>\n",
       "      <td>2018</td>\n",
       "    </tr>\n",
       "    <tr>\n",
       "      <th>3</th>\n",
       "      <td>Clyde's Clunkers</td>\n",
       "      <td>782</td>\n",
       "      <td>912</td>\n",
       "      <td>858</td>\n",
       "      <td>446</td>\n",
       "      <td>4</td>\n",
       "      <td>2018</td>\n",
       "    </tr>\n",
       "    <tr>\n",
       "      <th>4</th>\n",
       "      <td>Clyde's Clunkers</td>\n",
       "      <td>278</td>\n",
       "      <td>354</td>\n",
       "      <td>482</td>\n",
       "      <td>752</td>\n",
       "      <td>5</td>\n",
       "      <td>2018</td>\n",
       "    </tr>\n",
       "  </tbody>\n",
       "</table>\n",
       "</div>"
      ],
      "text/plain": [
       "     DealershipName  RedCars  SilverCars  BlackCars  BlueCars  MonthSold  \\\n",
       "0  Clyde's Clunkers      902         650        754       792          1   \n",
       "1  Clyde's Clunkers      710         476        518       492          2   \n",
       "2  Clyde's Clunkers      248         912        606       350          3   \n",
       "3  Clyde's Clunkers      782         912        858       446          4   \n",
       "4  Clyde's Clunkers      278         354        482       752          5   \n",
       "\n",
       "   YearSold  \n",
       "0      2018  \n",
       "1      2018  \n",
       "2      2018  \n",
       "3      2018  \n",
       "4      2018  "
      ]
     },
     "execution_count": 43,
     "metadata": {},
     "output_type": "execute_result"
    }
   ],
   "source": [
    "# Show the first 5 rows\n",
    "other_path_car_sales_data.head(5)"
   ]
  },
  {
   "cell_type": "markdown",
   "metadata": {},
   "source": [
    "### From a URL"
   ]
  },
  {
   "cell_type": "code",
   "execution_count": 44,
   "metadata": {},
   "outputs": [],
   "source": [
    "url = \"https://github.com/andrewcbancroft/datadaylife-blog/raw/master/datasets/Car%20Sales.xlsx\" # Note the URL Encoding with \"%20\" for spaces\n",
    "\n",
    "url_car_sales_data = pd.read_excel(url)"
   ]
  },
  {
   "cell_type": "code",
   "execution_count": 45,
   "metadata": {},
   "outputs": [
    {
     "data": {
      "text/html": [
       "<div>\n",
       "<style scoped>\n",
       "    .dataframe tbody tr th:only-of-type {\n",
       "        vertical-align: middle;\n",
       "    }\n",
       "\n",
       "    .dataframe tbody tr th {\n",
       "        vertical-align: top;\n",
       "    }\n",
       "\n",
       "    .dataframe thead th {\n",
       "        text-align: right;\n",
       "    }\n",
       "</style>\n",
       "<table border=\"1\" class=\"dataframe\">\n",
       "  <thead>\n",
       "    <tr style=\"text-align: right;\">\n",
       "      <th></th>\n",
       "      <th>DealershipName</th>\n",
       "      <th>RedCars</th>\n",
       "      <th>SilverCars</th>\n",
       "      <th>BlackCars</th>\n",
       "      <th>BlueCars</th>\n",
       "      <th>MonthSold</th>\n",
       "      <th>YearSold</th>\n",
       "    </tr>\n",
       "  </thead>\n",
       "  <tbody>\n",
       "    <tr>\n",
       "      <th>0</th>\n",
       "      <td>Clyde's Clunkers</td>\n",
       "      <td>902</td>\n",
       "      <td>650</td>\n",
       "      <td>754</td>\n",
       "      <td>792</td>\n",
       "      <td>1</td>\n",
       "      <td>2018</td>\n",
       "    </tr>\n",
       "    <tr>\n",
       "      <th>1</th>\n",
       "      <td>Clyde's Clunkers</td>\n",
       "      <td>710</td>\n",
       "      <td>476</td>\n",
       "      <td>518</td>\n",
       "      <td>492</td>\n",
       "      <td>2</td>\n",
       "      <td>2018</td>\n",
       "    </tr>\n",
       "    <tr>\n",
       "      <th>2</th>\n",
       "      <td>Clyde's Clunkers</td>\n",
       "      <td>248</td>\n",
       "      <td>912</td>\n",
       "      <td>606</td>\n",
       "      <td>350</td>\n",
       "      <td>3</td>\n",
       "      <td>2018</td>\n",
       "    </tr>\n",
       "    <tr>\n",
       "      <th>3</th>\n",
       "      <td>Clyde's Clunkers</td>\n",
       "      <td>782</td>\n",
       "      <td>912</td>\n",
       "      <td>858</td>\n",
       "      <td>446</td>\n",
       "      <td>4</td>\n",
       "      <td>2018</td>\n",
       "    </tr>\n",
       "    <tr>\n",
       "      <th>4</th>\n",
       "      <td>Clyde's Clunkers</td>\n",
       "      <td>278</td>\n",
       "      <td>354</td>\n",
       "      <td>482</td>\n",
       "      <td>752</td>\n",
       "      <td>5</td>\n",
       "      <td>2018</td>\n",
       "    </tr>\n",
       "  </tbody>\n",
       "</table>\n",
       "</div>"
      ],
      "text/plain": [
       "     DealershipName  RedCars  SilverCars  BlackCars  BlueCars  MonthSold  \\\n",
       "0  Clyde's Clunkers      902         650        754       792          1   \n",
       "1  Clyde's Clunkers      710         476        518       492          2   \n",
       "2  Clyde's Clunkers      248         912        606       350          3   \n",
       "3  Clyde's Clunkers      782         912        858       446          4   \n",
       "4  Clyde's Clunkers      278         354        482       752          5   \n",
       "\n",
       "   YearSold  \n",
       "0      2018  \n",
       "1      2018  \n",
       "2      2018  \n",
       "3      2018  \n",
       "4      2018  "
      ]
     },
     "execution_count": 45,
     "metadata": {},
     "output_type": "execute_result"
    }
   ],
   "source": [
    "# Show the first 5 rows\n",
    "url_car_sales_data.head(5)"
   ]
  },
  {
   "cell_type": "code",
   "execution_count": null,
   "metadata": {},
   "outputs": [],
   "source": []
  }
 ],
 "metadata": {
  "kernelspec": {
   "display_name": "Python 3",
   "language": "python",
   "name": "python3"
  },
  "language_info": {
   "codemirror_mode": {
    "name": "ipython",
    "version": 3
   },
   "file_extension": ".py",
   "mimetype": "text/x-python",
   "name": "python",
   "nbconvert_exporter": "python",
   "pygments_lexer": "ipython3",
   "version": "3.7.0"
  }
 },
 "nbformat": 4,
 "nbformat_minor": 2
}
