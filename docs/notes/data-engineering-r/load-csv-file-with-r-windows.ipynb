{
 "cells": [
  {
   "cell_type": "raw",
   "metadata": {},
   "source": [
    "---\n",
    "title: \"Load a CSV File With R\"\n",
    "author: \"Andrew Bancroft\"\n",
    "date:   2019-05-29\n",
    "description: \"Several examples of how to load a csv file into an R dataframe\"\n",
    "type: technical_note\n",
    "draft: false\n",
    "comments: true\n",
    "---"
   ]
  },
  {
   "cell_type": "markdown",
   "metadata": {},
   "source": [
    "## Prerequisites"
   ]
  },
  {
   "cell_type": "markdown",
   "metadata": {},
   "source": [
    "* No additional R packages are necessary for this notebook to run\n",
    "* Cells in this notebook expect the <a href=\"https://github.com/andrewcbancroft/datadaylife-blog/raw/master/datasets/Car%20Sales.csv\">Car Sales.csv</a> file to be in certain locations; specifics are in the cell itself\n",
    "* [Resources](#resources) to help you practice are available at the end"
   ]
  },
  {
   "cell_type": "markdown",
   "metadata": {},
   "source": [
    "## Load Data From a CSV File"
   ]
  },
  {
   "cell_type": "markdown",
   "metadata": {},
   "source": [
    "### File is in the same directory as your Jupyter Notebook"
   ]
  },
  {
   "cell_type": "code",
   "execution_count": null,
   "metadata": {},
   "outputs": [],
   "source": [
    "# Read the CSV file\n",
    "car.sales <- read.csv(\"Car Sales.csv\")\n",
    "\n",
    "# Show the first 5 rows\n",
    "head(car.sales, 5)"
   ]
  },
  {
   "cell_type": "markdown",
   "metadata": {},
   "source": [
    "### File is in a different directory than your Jupyter Notebook\n",
    "The example will use your \"home directory\" to make this example applicable across operating systems, but you can use any path as long as the file exists there..."
   ]
  },
  {
   "cell_type": "code",
   "execution_count": 41,
   "metadata": {
    "scrolled": true
   },
   "outputs": [
    {
     "data": {
      "text/html": [
       "<table>\n",
       "<thead><tr><th scope=col>DealershipName</th><th scope=col>RedCars</th><th scope=col>SilverCars</th><th scope=col>BlackCars</th><th scope=col>BlueCars</th><th scope=col>MonthSold</th><th scope=col>YearSold</th></tr></thead>\n",
       "<tbody>\n",
       "\t<tr><td>Clyde's Clunkers</td><td>902             </td><td>650             </td><td>754             </td><td>792             </td><td>1               </td><td>2018            </td></tr>\n",
       "\t<tr><td>Clyde's Clunkers</td><td>710             </td><td>476             </td><td>518             </td><td>492             </td><td>2               </td><td>2018            </td></tr>\n",
       "\t<tr><td>Clyde's Clunkers</td><td>248             </td><td>912             </td><td>606             </td><td>350             </td><td>3               </td><td>2018            </td></tr>\n",
       "\t<tr><td>Clyde's Clunkers</td><td>782             </td><td>912             </td><td>858             </td><td>446             </td><td>4               </td><td>2018            </td></tr>\n",
       "\t<tr><td>Clyde's Clunkers</td><td>278             </td><td>354             </td><td>482             </td><td>752             </td><td>5               </td><td>2018            </td></tr>\n",
       "</tbody>\n",
       "</table>\n"
      ],
      "text/latex": [
       "\\begin{tabular}{r|lllllll}\n",
       " DealershipName & RedCars & SilverCars & BlackCars & BlueCars & MonthSold & YearSold\\\\\n",
       "\\hline\n",
       "\t Clyde's Clunkers & 902              & 650              & 754              & 792              & 1                & 2018            \\\\\n",
       "\t Clyde's Clunkers & 710              & 476              & 518              & 492              & 2                & 2018            \\\\\n",
       "\t Clyde's Clunkers & 248              & 912              & 606              & 350              & 3                & 2018            \\\\\n",
       "\t Clyde's Clunkers & 782              & 912              & 858              & 446              & 4                & 2018            \\\\\n",
       "\t Clyde's Clunkers & 278              & 354              & 482              & 752              & 5                & 2018            \\\\\n",
       "\\end{tabular}\n"
      ],
      "text/markdown": [
       "\n",
       "DealershipName | RedCars | SilverCars | BlackCars | BlueCars | MonthSold | YearSold | \n",
       "|---|---|---|---|---|\n",
       "| Clyde's Clunkers | 902              | 650              | 754              | 792              | 1                | 2018             | \n",
       "| Clyde's Clunkers | 710              | 476              | 518              | 492              | 2                | 2018             | \n",
       "| Clyde's Clunkers | 248              | 912              | 606              | 350              | 3                | 2018             | \n",
       "| Clyde's Clunkers | 782              | 912              | 858              | 446              | 4                | 2018             | \n",
       "| Clyde's Clunkers | 278              | 354              | 482              | 752              | 5                | 2018             | \n",
       "\n",
       "\n"
      ],
      "text/plain": [
       "  DealershipName   RedCars SilverCars BlackCars BlueCars MonthSold YearSold\n",
       "1 Clyde's Clunkers 902     650        754       792      1         2018    \n",
       "2 Clyde's Clunkers 710     476        518       492      2         2018    \n",
       "3 Clyde's Clunkers 248     912        606       350      3         2018    \n",
       "4 Clyde's Clunkers 782     912        858       446      4         2018    \n",
       "5 Clyde's Clunkers 278     354        482       752      5         2018    "
      ]
     },
     "metadata": {},
     "output_type": "display_data"
    }
   ],
   "source": [
    "# Make sure to use \"\\\" slashes and not \"/\" slashes (it's a Windows thing)\n",
    "# There actually needs to be folders named \"Path\" and \"To\" and \"CSV\" and \"File\"\n",
    "# in your home directory (the \"~\" means \"home directory\") for this cell to work\n",
    "csv.file.path = normalizePath(\"~\\\\Path\\\\To\\\\CSV\\\\File\\\\Car Sales.csv\", winslash = \"\\\\\")\n",
    "\n",
    "other.path.car.sales <- read.csv(csv.file.path)\n",
    "\n",
    "# Show the first 5 rows\n",
    "head(other.path.car.sales, 5)"
   ]
  },
  {
   "cell_type": "markdown",
   "metadata": {},
   "source": [
    "### From a URL"
   ]
  },
  {
   "cell_type": "code",
   "execution_count": 43,
   "metadata": {
    "scrolled": false
   },
   "outputs": [
    {
     "ename": "ERROR",
     "evalue": "Error in read.table(file = file, header = header, sep = sep, quote = quote, : object 'url_to_csv_file' not found\n",
     "output_type": "error",
     "traceback": [
      "Error in read.table(file = file, header = header, sep = sep, quote = quote, : object 'url_to_csv_file' not found\nTraceback:\n",
      "1. read.csv2(url_to_csv_file)",
      "2. read.table(file = file, header = header, sep = sep, quote = quote, \n .     dec = dec, fill = fill, comment.char = comment.char, ...)"
     ]
    }
   ],
   "source": [
    "# Note the URL Encoding with \"%20\" for spaces\n",
    "url.to.csv.file <- \"https://github.com/andrewcbancroft/datadaylife-blog/raw/master/datasets/Car%20Sales.csv\"\n",
    "\n",
    "# Read the CSV file\n",
    "url.car.sales = read.(url_to_csv_file)\n",
    "\n",
    "# Show the first 5 rows\n",
    "head(url.car.sales, 5)"
   ]
  },
  {
   "cell_type": "markdown",
   "metadata": {},
   "source": [
    "<a name=\"resources\" class=\"jump-target\"></a>\n",
    "<div class=\"resources\">\n",
    "  <div class=\"resources-header\">\n",
    "    Resources\n",
    "  </div>\n",
    "  <ul class=\"resources-content\">\n",
    "    <li>\n",
    "        <i class=\"fas fa-file-csv\"></i> <a href=\"https://github.com/andrewcbancroft/datadaylife-blog/raw/master/datasets/Car%20Sales.csv\">Car Sales.csv</a>\n",
    "    </li>\n",
    "    <li>\n",
    "        <i class=\"fas fa-book\"></i> <a href=\"https://raw.githubusercontent.com/andrewcbancroft/datadaylife-blog/master/content/notes/load-csv-file-with-python-pandas.ipynb\">load-csv-file-with-python-pandas.ipynb</a>\n",
    "    </li>\n",
    "  </ul>\n",
    "</div>"
   ]
  }
 ],
 "metadata": {
  "kernelspec": {
   "display_name": "R",
   "language": "R",
   "name": "ir"
  },
  "language_info": {
   "codemirror_mode": "r",
   "file_extension": ".r",
   "mimetype": "text/x-r-source",
   "name": "R",
   "pygments_lexer": "r",
   "version": "3.5.1"
  }
 },
 "nbformat": 4,
 "nbformat_minor": 2
}
